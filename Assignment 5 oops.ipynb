{
 "cells": [
  {
   "cell_type": "markdown",
   "id": "d03b66ff-cf9a-4045-b490-e10e3fe6d2f7",
   "metadata": {},
   "source": [
    "Q1, Create a vehicle class with an init method having instance variables as name_of_vehicle, max_speed\n",
    "and average_of_vehicle.\n"
   ]
  },
  {
   "cell_type": "code",
   "execution_count": 16,
   "id": "b038a08d-691f-4dea-b005-9f91f587d798",
   "metadata": {},
   "outputs": [],
   "source": [
    "class vehicle :\n",
    "    def __init__(self, name_of_vehicle, max_speed, average_of_vehicle):\n",
    "        self.name_of_vehicle = name_of_vehicle\n",
    "        self.max_speed = max_speed\n",
    "        self.average_of_vehicle = average_of_vehicle\n",
    "        \n",
    "    "
   ]
  },
  {
   "cell_type": "code",
   "execution_count": 17,
   "id": "de87d320-fe8d-4ba2-9f8b-c46d43badc6d",
   "metadata": {},
   "outputs": [],
   "source": [
    "amar=vehicle( 'tesla', 200, 30 )"
   ]
  },
  {
   "cell_type": "code",
   "execution_count": 18,
   "id": "31b31087-aa3f-442c-beb5-23762bdba6bd",
   "metadata": {},
   "outputs": [
    {
     "data": {
      "text/plain": [
       "200"
      ]
     },
     "execution_count": 18,
     "metadata": {},
     "output_type": "execute_result"
    }
   ],
   "source": [
    "amar.max_speed"
   ]
  },
  {
   "cell_type": "markdown",
   "id": "410a41ae-38db-4919-829c-de18dc0912af",
   "metadata": {},
   "source": [
    "Q2. Create a child class car from the vehicle class created in Que 1, which will inherit the vehicle class.\n",
    "Create a method named seating_capacity which takes capacity as an argument and returns the name of\n",
    "the vehicle and its seating capacity.\n"
   ]
  },
  {
   "cell_type": "code",
   "execution_count": 20,
   "id": "4ce76fff-7f15-48b9-908e-478fb1b61e96",
   "metadata": {},
   "outputs": [],
   "source": [
    "class child_car(vehicle):\n",
    "    def seating_capacity(self, capacity):\n",
    "        self.capacity= capacity"
   ]
  },
  {
   "cell_type": "code",
   "execution_count": 23,
   "id": "f54002af-e2fd-4639-99f6-7339a0e8a664",
   "metadata": {},
   "outputs": [],
   "source": [
    "amma=child_car('tesla',200,30)"
   ]
  },
  {
   "cell_type": "code",
   "execution_count": 24,
   "id": "693f6187-3496-4485-854c-f1d8014d3945",
   "metadata": {},
   "outputs": [
    {
     "data": {
      "text/plain": [
       "'tesla'"
      ]
     },
     "execution_count": 24,
     "metadata": {},
     "output_type": "execute_result"
    }
   ],
   "source": [
    "amma.name_of_vehicle"
   ]
  },
  {
   "cell_type": "code",
   "execution_count": 30,
   "id": "804fec4b-b235-4e46-ae9b-bcd5c92c8007",
   "metadata": {},
   "outputs": [],
   "source": [
    "amma.seating_capacity(4)"
   ]
  },
  {
   "cell_type": "code",
   "execution_count": null,
   "id": "6f5b7032-9443-43bf-b671-09f575752cf0",
   "metadata": {},
   "outputs": [],
   "source": []
  },
  {
   "cell_type": "markdown",
   "id": "e0cb9a84-cd98-4db3-b545-c1d62fca93ef",
   "metadata": {},
   "source": [
    "Q3. What is multiple inheritance? Write a python code to demonstrate multiple inheritance.\n"
   ]
  },
  {
   "cell_type": "markdown",
   "id": "2009317c-c40e-44ad-ae00-64e53b0c067e",
   "metadata": {},
   "source": [
    "multiple inheritance means the fuction or method of  two or more different differnt classse which methods  is used in at single class \n",
    "\n",
    "If a child class inherits from more than one class."
   ]
  },
  {
   "cell_type": "code",
   "execution_count": 43,
   "id": "5247bfea-5060-49a2-8bb6-09bd2ff38512",
   "metadata": {},
   "outputs": [],
   "source": [
    "class papa:\n",
    "    def teach_walk( self):\n",
    "        return 'i am teach waking from papa'"
   ]
  },
  {
   "cell_type": "code",
   "execution_count": 44,
   "id": "85e2a614-ae45-4cbe-a997-15eca8e7299b",
   "metadata": {},
   "outputs": [],
   "source": [
    "class mammy:\n",
    "    def teach_speak(self):\n",
    "        return 'i am teach speaking from mammy'"
   ]
  },
  {
   "cell_type": "code",
   "execution_count": 45,
   "id": "a1b2e265-3489-492a-902e-f49fe07ebe3d",
   "metadata": {},
   "outputs": [],
   "source": [
    "class child(papa , mammy):\n",
    "    pass"
   ]
  },
  {
   "cell_type": "code",
   "execution_count": 46,
   "id": "44aa5fc3-d2da-407f-b7cc-759fdb1c0855",
   "metadata": {},
   "outputs": [],
   "source": [
    "child_obj= child()"
   ]
  },
  {
   "cell_type": "code",
   "execution_count": 47,
   "id": "89d1e2a4-5f73-43a6-ad35-da65b236a071",
   "metadata": {},
   "outputs": [
    {
     "data": {
      "text/plain": [
       "'i am teach speaking from mammy'"
      ]
     },
     "execution_count": 47,
     "metadata": {},
     "output_type": "execute_result"
    }
   ],
   "source": [
    "child_obj.teach_speak()"
   ]
  },
  {
   "cell_type": "code",
   "execution_count": 48,
   "id": "dd045d16-8314-4937-8a57-852de945e61c",
   "metadata": {},
   "outputs": [
    {
     "data": {
      "text/plain": [
       "'i am teach waking from papa'"
      ]
     },
     "execution_count": 48,
     "metadata": {},
     "output_type": "execute_result"
    }
   ],
   "source": [
    "child_obj.teach_walk()"
   ]
  },
  {
   "cell_type": "markdown",
   "id": "430ed828-7ec8-49cb-ac78-8c06684c2d69",
   "metadata": {},
   "source": [
    "Q4. What are getter and setter in python? Create a class and create a getter and a setter method in this\n",
    "class.\n"
   ]
  },
  {
   "cell_type": "markdown",
   "id": "c2bea5f8-76ae-4fcc-a8d9-dfde3024c03b",
   "metadata": {},
   "source": [
    " getters and setters are methods used to access and modify the values of class attributes. \n",
    " \n",
    " They provide a way to encapsulate the access and modification of class variables, \n",
    " allowing you to control the interactions with the attributes."
   ]
  },
  {
   "cell_type": "code",
   "execution_count": 59,
   "id": "d40ef8b0-38c2-47c1-b3ed-979aeb64e4be",
   "metadata": {},
   "outputs": [],
   "source": [
    "class pwskills:\n",
    "    def __init__(self):\n",
    "        self._my_atrribute = None\n",
    "        \n",
    "    def get_my_atrribute(self):\n",
    "        return self._my_atrribute\n",
    "    \n",
    "    def set_my_atrribute(self,value):\n",
    "        self._my_atrribute = value"
   ]
  },
  {
   "cell_type": "code",
   "execution_count": 60,
   "id": "462b4ad8-e183-4e46-8dc8-86815604979e",
   "metadata": {},
   "outputs": [],
   "source": [
    "pw_obj = pwskills()"
   ]
  },
  {
   "cell_type": "code",
   "execution_count": 61,
   "id": "dcb7b809-9e2d-4bdc-9d2f-55fd646a9d14",
   "metadata": {},
   "outputs": [
    {
     "name": "stdout",
     "output_type": "stream",
     "text": [
      "None\n"
     ]
    }
   ],
   "source": [
    "print(pw_obj.get_my_atrribute())"
   ]
  },
  {
   "cell_type": "code",
   "execution_count": 66,
   "id": "ab86b455-8f28-4579-8358-c1bb9742b33f",
   "metadata": {},
   "outputs": [],
   "source": [
    "pw_obj.set_my_atrribute(' you welcome in pwskills')\n"
   ]
  },
  {
   "cell_type": "code",
   "execution_count": 67,
   "id": "34d94af3-c4bb-418b-9f71-fd7b8e4cf723",
   "metadata": {},
   "outputs": [
    {
     "data": {
      "text/plain": [
       "' you welcome in pwskills'"
      ]
     },
     "execution_count": 67,
     "metadata": {},
     "output_type": "execute_result"
    }
   ],
   "source": [
    "pw_obj.get_my_atrribute()"
   ]
  },
  {
   "cell_type": "markdown",
   "id": "b608133e-ebad-47ca-b598-990b189f26a5",
   "metadata": {},
   "source": [
    "Q5.What is method overriding in python? Write a python code to demonstrate method overriding."
   ]
  },
  {
   "cell_type": "markdown",
   "id": "42e37c1e-c5ec-4e12-94dd-4b32107c9688",
   "metadata": {},
   "source": [
    "overriding is the method  havimng same name with same arguments \n",
    "\n",
    "it is implementet with inheritance aslo.\n",
    "\n",
    "it is mostly used memory reducing procrsses"
   ]
  },
  {
   "cell_type": "code",
   "execution_count": 6,
   "id": "5a0f6479-a1de-4e6b-a90b-30342beca6bd",
   "metadata": {},
   "outputs": [],
   "source": [
    "class test:\n",
    "    def amar(self):\n",
    "        return 'amar'"
   ]
  },
  {
   "cell_type": "code",
   "execution_count": 7,
   "id": "8cb271ef-1099-4aef-8cad-48b3c3150a29",
   "metadata": {},
   "outputs": [],
   "source": [
    "class test1(test):\n",
    "    def amar(self):\n",
    "        return 'nayan'"
   ]
  },
  {
   "cell_type": "code",
   "execution_count": 8,
   "id": "60f5f4af-711b-4629-a5e9-73299094dea1",
   "metadata": {},
   "outputs": [],
   "source": [
    "obj=test1()"
   ]
  },
  {
   "cell_type": "code",
   "execution_count": 9,
   "id": "a910962a-747f-4dd2-b371-b7396bc3f7b0",
   "metadata": {},
   "outputs": [
    {
     "data": {
      "text/plain": [
       "'nayan'"
      ]
     },
     "execution_count": 9,
     "metadata": {},
     "output_type": "execute_result"
    }
   ],
   "source": [
    "obj.amar()"
   ]
  },
  {
   "cell_type": "code",
   "execution_count": null,
   "id": "f9df984e-d1b1-4606-8299-0d7caf6b4d8c",
   "metadata": {},
   "outputs": [],
   "source": []
  }
 ],
 "metadata": {
  "kernelspec": {
   "display_name": "Python 3 (ipykernel)",
   "language": "python",
   "name": "python3"
  },
  "language_info": {
   "codemirror_mode": {
    "name": "ipython",
    "version": 3
   },
   "file_extension": ".py",
   "mimetype": "text/x-python",
   "name": "python",
   "nbconvert_exporter": "python",
   "pygments_lexer": "ipython3",
   "version": "3.10.8"
  }
 },
 "nbformat": 4,
 "nbformat_minor": 5
}
